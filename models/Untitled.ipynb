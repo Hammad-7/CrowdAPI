{
 "cells": [
  {
   "cell_type": "code",
   "execution_count": 5,
   "id": "f777221b",
   "metadata": {},
   "outputs": [],
   "source": [
    "import keras\n",
    "from keras.preprocessing.image import ImageDataGenerator\n",
    "from keras.models import Sequential\n",
    "from keras.layers import Dense\n",
    "from keras.applications.vgg16 import VGG16\n",
    "from keras.applications.vgg16 import preprocess_input\n",
    "from keras.applications.vgg16 import preprocess_input\n",
    "import numpy as np\n",
    "from keras.preprocessing.image import img_to_array, load_img\n"
   ]
  },
  {
   "cell_type": "code",
   "execution_count": 2,
   "id": "9dd39b17",
   "metadata": {},
   "outputs": [],
   "source": [
    "from keras.models import load_model\n",
    "vgg16_saved = load_model('model_2.h5')"
   ]
  },
  {
   "cell_type": "code",
   "execution_count": 3,
   "id": "f2c9c833",
   "metadata": {},
   "outputs": [],
   "source": [
    "def prepare_image(img_path):\n",
    "    img = load_img(img_path, target_size = (224, 224))\n",
    "    x = img_to_array(img)\n",
    "    x = np.expand_dims(x, axis = 0)\n",
    "    x = preprocess_input(x)\n",
    "    return x"
   ]
  },
  {
   "cell_type": "code",
   "execution_count": 6,
   "id": "aeae2581",
   "metadata": {},
   "outputs": [],
   "source": [
    "y = prepare_image(\"../../CSRnet-master/CSRnet-master/data/part_A_final/test_data/images/IMG_5.jpg\")"
   ]
  },
  {
   "cell_type": "code",
   "execution_count": 7,
   "id": "184b84b2",
   "metadata": {},
   "outputs": [],
   "source": [
    "p = vgg16_saved.predict(y)   "
   ]
  },
  {
   "cell_type": "code",
   "execution_count": 8,
   "id": "55581b95",
   "metadata": {},
   "outputs": [
    {
     "name": "stdout",
     "output_type": "stream",
     "text": [
      "[[3.5388020e-06 9.9999642e-01 7.6972294e-13 1.0671125e-16 2.9110454e-15]]\n"
     ]
    }
   ],
   "source": [
    "print(p)"
   ]
  },
  {
   "cell_type": "code",
   "execution_count": 9,
   "id": "d5c29486",
   "metadata": {},
   "outputs": [
    {
     "data": {
      "text/plain": [
       "array([3.5388020e-06, 9.9999642e-01, 7.6972294e-13, 1.0671125e-16,\n",
       "       2.9110454e-15], dtype=float32)"
      ]
     },
     "execution_count": 9,
     "metadata": {},
     "output_type": "execute_result"
    }
   ],
   "source": [
    "p[0]"
   ]
  },
  {
   "cell_type": "code",
   "execution_count": 10,
   "id": "511f3807",
   "metadata": {},
   "outputs": [
    {
     "data": {
      "text/plain": [
       "0.9999964"
      ]
     },
     "execution_count": 10,
     "metadata": {},
     "output_type": "execute_result"
    }
   ],
   "source": [
    "max(p[0])"
   ]
  },
  {
   "cell_type": "code",
   "execution_count": 11,
   "id": "0ff0cb07",
   "metadata": {},
   "outputs": [
    {
     "name": "stdout",
     "output_type": "stream",
     "text": [
      "Heavily_Crowded\n"
     ]
    }
   ],
   "source": [
    "arr = [\"Crowded\", \"Heavily_Crowded\", \"Light_Crowded\", \"Normal\", \"Semi_Crowded\"]\n",
    "l = p[0].copy()\n",
    "l.sort()\n",
    "m = max(p[0])\n",
    "for i in range(len(p[0])):\n",
    "  if m == p[0][i]:\n",
    "    w = arr[i]    \n",
    "    print(str(arr[i]))"
   ]
  },
  {
   "cell_type": "code",
   "execution_count": null,
   "id": "90920a5f",
   "metadata": {},
   "outputs": [],
   "source": []
  }
 ],
 "metadata": {
  "kernelspec": {
   "display_name": "Python 3 (ipykernel)",
   "language": "python",
   "name": "python3"
  },
  "language_info": {
   "codemirror_mode": {
    "name": "ipython",
    "version": 3
   },
   "file_extension": ".py",
   "mimetype": "text/x-python",
   "name": "python",
   "nbconvert_exporter": "python",
   "pygments_lexer": "ipython3",
   "version": "3.9.7"
  }
 },
 "nbformat": 4,
 "nbformat_minor": 5
}
